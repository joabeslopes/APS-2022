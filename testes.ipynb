{
 "cells": [
  {
   "cell_type": "markdown",
   "metadata": {},
   "source": [
    "Código da análise de dados"
   ]
  },
  {
   "cell_type": "code",
   "execution_count": null,
   "metadata": {},
   "outputs": [],
   "source": [
    "import pandas as pd\n",
    "\n",
    "medicamentos = pd.read_csv('medicamentos.csv', delimiter =';', encoding='latin-1', decimal=',')\n",
    "\n",
    "novaTab = medicamentos[['COMERCIALIZAÇÃO 2022','PRODUTO','APRESENTAÇÃO','LABORATÓRIO','PF Sem Impostos','PF 20%','PMC 0%','PMC 20%']].head(10)\n",
    "\n",
    "\n",
    "lucroLabs = []\n",
    "lucroFarms= []\n",
    "\n",
    "for i in range(novaTab.shape[0]):\n",
    "    if novaTab['COMERCIALIZAÇÃO 2022'].loc[i] == 'Sim':\n",
    "        lucroLabs.append(float(novaTab['PF 20%'].loc[i]) - float(novaTab['PF Sem Impostos'].loc[i]))\n",
    "        lucroFarms.append(float(novaTab['PMC 20%'].loc[i]) - float(novaTab['PMC 0%'].loc[i]))\n",
    "    else:\n",
    "        lucroLabs.append(float(novaTab['PF 20%'].loc[i]) - float(novaTab['PF Sem Impostos'].loc[i]))\n",
    "        lucroFarms.append(0)\n",
    "\n",
    "novaTab.loc[:,'LUCRO LABORATÓRIOS'] = lucroLabs\n",
    "novaTab.loc[:,'LUCRO FARMÁCIAS'] = lucroFarms\n",
    "\n"
   ]
  },
  {
   "cell_type": "markdown",
   "metadata": {},
   "source": [
    "Impressão de resultados"
   ]
  },
  {
   "cell_type": "code",
   "execution_count": null,
   "metadata": {},
   "outputs": [],
   "source": [
    "\n",
    "\n",
    "novaTab"
   ]
  }
 ],
 "metadata": {
  "kernelspec": {
   "display_name": "Python 3.10.6 64-bit",
   "language": "python",
   "name": "python3"
  },
  "language_info": {
   "codemirror_mode": {
    "name": "ipython",
    "version": 3
   },
   "file_extension": ".py",
   "mimetype": "text/x-python",
   "name": "python",
   "nbconvert_exporter": "python",
   "pygments_lexer": "ipython3",
   "version": "3.10.6"
  },
  "orig_nbformat": 4,
  "vscode": {
   "interpreter": {
    "hash": "916dbcbb3f70747c44a77c7bcd40155683ae19c65e1c03b4aa3499c5328201f1"
   }
  }
 },
 "nbformat": 4,
 "nbformat_minor": 2
}
