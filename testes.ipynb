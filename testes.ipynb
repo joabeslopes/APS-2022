{
 "cells": [
  {
   "cell_type": "code",
   "execution_count": null,
   "metadata": {},
   "outputs": [],
   "source": [
    "import pandas as pd\n",
    "\n",
    "# Ler a tabela inteira\n",
    "medicamentos = pd.read_csv('medicamentos.csv', delimiter =';', encoding='latin-1',decimal=',')\n",
    "\n",
    "# Gerar nova tabela filtrada\n",
    "novaTab = medicamentos[['COMERCIALIZAÇÃO 2022','PRODUTO','APRESENTAÇÃO','LABORATÓRIO','PF Sem Impostos','PF 20%','PMC 0%','PMC 20%']]\n",
    "\n",
    "\n",
    "# Definir o lucro dos laboratórios e das farmácias, baseado no comércio à população\n",
    "lucroLabs = []\n",
    "lucroFarms= []\n",
    "margemTotalLabs=0\n",
    "margemTotalFarms=0\n",
    "contSim = 0\n",
    "for i in range(novaTab.shape[0]):\n",
    "    if novaTab['COMERCIALIZAÇÃO 2022'].loc[i] == 'Sim':\n",
    "        lucroLabs.append(float(novaTab['PF 20%'].loc[i]) - float(novaTab['PF Sem Impostos'].loc[i]))\n",
    "        lucroFarms.append(float(novaTab['PMC 20%'].loc[i]) - float(novaTab['PMC 0%'].loc[i]))\n",
    "        contSim += 1\n",
    "\n",
    "    else:\n",
    "        lucroLabs.append(float(novaTab['PF 20%'].loc[i]) - float(novaTab['PF Sem Impostos'].loc[i]))\n",
    "        lucroFarms.append(0)\n",
    "    # Calcula as margens de lucro geral, filtrando o que não for número\n",
    "    if lucroLabs[i]>=0:\n",
    "        margemTotalLabs += lucroLabs[i]\n",
    "    if lucroFarms[i]>=0:\n",
    "        margemTotalFarms += lucroFarms[i]\n",
    "\n",
    "# Colocar os resultados em novas colunas na tabela\n",
    "novaTab.loc[:,'LUCRO LABORATÓRIOS'] = lucroLabs\n",
    "novaTab.loc[:,'LUCRO FARMÁCIAS'] = lucroFarms\n",
    "\n",
    "# Calcular proporção\n",
    "comercial = round((contSim / novaTab.shape[0]) * 100)\n",
    "\n",
    "# Gerar o resultado final\n",
    "novaTab.to_csv('NovaTabela.csv')\n",
    "print('=='*30)\n",
    "print('Tabela reduzida foi gerada com sucesso!\\n')\n",
    "print(f'Margem de lucro total permitida aos laboratórios pelos produtos: R$ {margemTotalLabs:.2f}\\n')\n",
    "print(f'Margem de lucro total permitida às farmácias pelos produtos: R$ {margemTotalFarms:.2f}\\n')\n",
    "print(f'Proporção de produtos comercializáveis ao público geral: {comercial}%\\n')\n",
    "print('=='*30)"
   ]
  },
  {
   "cell_type": "code",
   "execution_count": null,
   "metadata": {},
   "outputs": [],
   "source": [
    "margemTotalLabs"
   ]
  },
  {
   "cell_type": "code",
   "execution_count": null,
   "metadata": {},
   "outputs": [],
   "source": [
    "\n",
    "\n",
    "novaTab"
   ]
  }
 ],
 "metadata": {
  "kernelspec": {
   "display_name": "Python 3.10.6 64-bit",
   "language": "python",
   "name": "python3"
  },
  "language_info": {
   "codemirror_mode": {
    "name": "ipython",
    "version": 3
   },
   "file_extension": ".py",
   "mimetype": "text/x-python",
   "name": "python",
   "nbconvert_exporter": "python",
   "pygments_lexer": "ipython3",
   "version": "3.10.6"
  },
  "orig_nbformat": 4,
  "vscode": {
   "interpreter": {
    "hash": "916dbcbb3f70747c44a77c7bcd40155683ae19c65e1c03b4aa3499c5328201f1"
   }
  }
 },
 "nbformat": 4,
 "nbformat_minor": 2
}
